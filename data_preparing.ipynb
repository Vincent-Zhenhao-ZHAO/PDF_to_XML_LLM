{
 "cells": [
  {
   "cell_type": "code",
   "execution_count": 14,
   "metadata": {},
   "outputs": [],
   "source": [
    "import fitz"
   ]
  },
  {
   "cell_type": "code",
   "execution_count": 54,
   "metadata": {},
   "outputs": [],
   "source": [
    "# PDF to Image, use OCR to detect bounding boxes of text\n",
    "from pdf2image import convert_from_path\n",
    "import easyocr\n",
    "import numpy as np\n",
    "pdf_path = 'Structured_note_termsheet/cct-linked-structured-note.pdf'\n",
    "images = convert_from_path(pdf_path)\n",
    "reader = easyocr.Reader(['en'])\n",
    "bounds = reader.readtext(np.array(images[0]), min_size=10, slope_ths=0.5, ycenter_ths=0.7, height_ths=1.2, width_ths=0.85, decoder='beamsearch', beamWidth=10)"
   ]
  },
  {
   "cell_type": "code",
   "execution_count": 56,
   "metadata": {},
   "outputs": [],
   "source": [
    "# export the image to a file\n",
    "images[0].save('output.jpg', 'JPEG')"
   ]
  },
  {
   "cell_type": "code",
   "execution_count": 36,
   "metadata": {},
   "outputs": [
    {
     "data": {
      "text/plain": [
       "((86.30400085449219, 280.5127868652344), (526.9910888671875, 340.22802734375))"
      ]
     },
     "execution_count": 36,
     "metadata": {},
     "output_type": "execute_result"
    }
   ],
   "source": [
    "# Get the coordinates bounding box of the text in the PDF\n",
    "def search_text_and_get_coordinates(pdf_path, search_text):\n",
    "    document = fitz.open(pdf_path)\n",
    "    \n",
    "    start_text_coordinates = (float('inf'), float('inf'))\n",
    "    end_text_coordinates = (float('-inf'), float('-inf'))\n",
    "    \n",
    "    for page_number in range(len(document)):\n",
    "        page = document.load_page(page_number)\n",
    "        \n",
    "        text_instances = page.search_for(search_text)\n",
    "        \n",
    "        for inst in text_instances:\n",
    "            x0, y0, x1, y1 = inst\n",
    "            if start_text_coordinates is None:\n",
    "                start_text_coordinates = (x0, y0)\n",
    "            else:\n",
    "              # choose the smallest x0 and y0\n",
    "              start_text_coordinates = (min(start_text_coordinates[0], x0), min(start_text_coordinates[1], y0))\n",
    "        \n",
    "            if end_text_coordinates is None:\n",
    "                end_text_coordinates = (x1, y1)\n",
    "            else:\n",
    "              # choose the largest x1 and y1\n",
    "              end_text_coordinates = (max(end_text_coordinates[0], x1), max(end_text_coordinates[1], y1))\n",
    "              \n",
    "    return start_text_coordinates, end_text_coordinates\n",
    "\n",
    "pdf_path = 'Structured_note_termsheet/cct-linked-structured-note.pdf'\n",
    "\n",
    "search_text = 'Status of the Notes: The Notes are direct, unsecured and unsubordinated obligations of the Issuer and rank pari passu without any preference among themselves and (save for certain obligations required to be preferred by law) equally with all other unsecured obligations (other than subordinated obligations, if any) of the Issuer, from time to time outstanding.'\n",
    "\n",
    "search_text_and_get_coordinates(pdf_path, search_text)"
   ]
  },
  {
   "cell_type": "code",
   "execution_count": 42,
   "metadata": {},
   "outputs": [],
   "source": [
    "data_json = {\n",
    "  \"training_data\": [\n",
    "    {\n",
    "      \"text\": \"Status of the Notes: The Notes are direct, unsecured and unsubordinated obligations of the Issuer and rank pari passu without any preference among themselves and (save for certain obligations required to be preferred by law) equally with all other unsecured obligations (other than subordinated obligations, if any) of the Issuer, from time to time outstanding.\",\n",
    "      \"start_text_coordinates\": {\n",
    "        \"x\": 86.30400085449219,\n",
    "        \"y\": 280.5127868652344\n",
    "      },\n",
    "      \"end_text_coordinates\": {\n",
    "        \"x\": 526.9910888671875,\n",
    "        \"y\": 340.22802734375\n",
    "      },\n",
    "      \"expected_output\": \"<StatusOfNotes><Description>The Notes are direct, unsecured and unsubordinated obligations of the Issuer and rank pari passu without any preference among themselves and (save for certain obligations required to be preferred by law) equally with all other unsecured obligations (other than subordinated obligations, if any) of the Issuer, from time to time outstanding.</Description></StatusOfNotes>\"\n",
    "    }\n",
    "  ]\n",
    "}\n",
    "\n",
    "# tabulur data scaling \n",
    "# key scheching\n",
    "# page breaks\n"
   ]
  }
 ],
 "metadata": {
  "kernelspec": {
   "display_name": "Python 3",
   "language": "python",
   "name": "python3"
  },
  "language_info": {
   "codemirror_mode": {
    "name": "ipython",
    "version": 3
   },
   "file_extension": ".py",
   "mimetype": "text/x-python",
   "name": "python",
   "nbconvert_exporter": "python",
   "pygments_lexer": "ipython3",
   "version": "3.11.9"
  }
 },
 "nbformat": 4,
 "nbformat_minor": 2
}
