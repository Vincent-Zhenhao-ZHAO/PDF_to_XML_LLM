{
 "cells": [
  {
   "cell_type": "code",
   "execution_count": 14,
   "metadata": {},
   "outputs": [],
   "source": [
    "import fitz"
   ]
  },
  {
   "cell_type": "code",
   "execution_count": 34,
   "metadata": {},
   "outputs": [
    {
     "data": {
      "text/plain": [
       "((209.08999633789062, 103.81997680664062),\n",
       " (411.1659851074219, 154.0640106201172))"
      ]
     },
     "execution_count": 34,
     "metadata": {},
     "output_type": "execute_result"
    }
   ],
   "source": [
    "def search_text_and_get_coordinates(pdf_path, search_text):\n",
    "    document = fitz.open(pdf_path)\n",
    "    \n",
    "    start_text_coordinates = (float('inf'), float('inf'))\n",
    "    end_text_coordinates = (float('-inf'), float('-inf'))\n",
    "    \n",
    "    for page_number in range(len(document)):\n",
    "        page = document.load_page(page_number)\n",
    "        \n",
    "        text_instances = page.search_for(search_text)\n",
    "        \n",
    "        for inst in text_instances:\n",
    "            x0, y0, x1, y1 = inst\n",
    "            if start_text_coordinates is None:\n",
    "                start_text_coordinates = (x0, y0)\n",
    "            else:\n",
    "              # choose the smallest x0 and y0\n",
    "              start_text_coordinates = (min(start_text_coordinates[0], x0), min(start_text_coordinates[1], y0))\n",
    "        \n",
    "            if end_text_coordinates is None:\n",
    "                end_text_coordinates = (x1, y1)\n",
    "            else:\n",
    "              # choose the largest x1 and y1\n",
    "              end_text_coordinates = (max(end_text_coordinates[0], x1), max(end_text_coordinates[1], y1))\n",
    "              \n",
    "    return start_text_coordinates, end_text_coordinates\n",
    "\n",
    "pdf_path = 'Structured_note_termsheet/cct-linked-structured-note.pdf'\n",
    "\n",
    "search_text = 'CCT LINKED STRUCTURED NOTE  FINAL TERM-SHEET1 Principal Terms and Conditions'\n",
    "\n",
    "search_text_and_get_coordinates(pdf_path, search_text)"
   ]
  },
  {
   "cell_type": "code",
   "execution_count": null,
   "metadata": {},
   "outputs": [],
   "source": [
    "{\n",
    "  \"text\": \"Status of the Notes: The Notes are direct, unsecured and unsubordinated obligations of the Issuer and rank pari passu without any preference among themselves and (save for certain obligations required to be preferred by law) equally with all other unsecured obligations (other than subordinated obligations, if any) of the Issuer, from time to time outstanding.\",\n",
    "  \"start_text_coordinates\": (float('inf'), float('inf')),\n",
    "  \"end_text_coordinates\": (float('-inf'), float('-inf'))\n",
    "},\n",
    "{\n",
    "  \"expected_output\": \"Status of the Notes: The Notes are direct, unsecured and unsubordinated obligations of the Issuer and rank pari passu without any preference among themselves and (save for certain obligations required to be preferred by law) equally with all other unsecured obligations (other than subordinated obligations, if any) of the Issuer, from time to time outstanding.\",\n",
    "}"
   ]
  }
 ],
 "metadata": {
  "kernelspec": {
   "display_name": "Python 3",
   "language": "python",
   "name": "python3"
  },
  "language_info": {
   "codemirror_mode": {
    "name": "ipython",
    "version": 3
   },
   "file_extension": ".py",
   "mimetype": "text/x-python",
   "name": "python",
   "nbconvert_exporter": "python",
   "pygments_lexer": "ipython3",
   "version": "3.11.9"
  }
 },
 "nbformat": 4,
 "nbformat_minor": 2
}
